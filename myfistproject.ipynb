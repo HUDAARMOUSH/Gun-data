{
  "metadata": {
    "kernelspec": {
      "name": "python",
      "display_name": "Python (Pyodide)",
      "language": "python"
    },
    "language_info": {
      "codemirror_mode": {
        "name": "python",
        "version": 3
      },
      "file_extension": ".py",
      "mimetype": "text/x-python",
      "name": "python",
      "nbconvert_exporter": "python",
      "pygments_lexer": "ipython3",
      "version": "3.8"
    }
  },
  "nbformat_minor": 4,
  "nbformat": 4,
  "cells": [
    {
      "cell_type": "markdown",
      "source": "<a id='intro'></a>\n## Introduction\n\n### Dataset Description \n\n> In this project we have two data sets about Gun usage in USA, the first data(Gun data == gun) is about every state in USA and number of permit to use guns, and the numbers and kinds of guns (guns, long guns) and the statues of it like (returned, rented, private, redumption and prepawn) that is used in that state, since Nov. 1998 to Septemper 2017. The other data set, we have diffrent facts - there are 65 differnt census measurement as value of Fact- not so related to the gun owning. however it provides us some facts are related and we will use them to anylysis of the first data for answering the questions too.\n\n\n### Question(s) for Analysis\n> 1.What census variable or fact value is most associated with high gun per capita per state? Ceusus data includes state as variable, . \n\n> 2.Which states have had the highest growth and the lowest growth in gun registrations from Apr 2010 to Jul 2016?\n\n> 3.What is the overall trend of gun purchases by year or by year and month?",
      "metadata": {}
    },
    {
      "cell_type": "code",
      "source": "#   plan to use.\nimport pandas as pd\nimport numpy as np\nimport matplotlib.pyplot as plt\n",
      "metadata": {
        "trusted": true
      },
      "outputs": [],
      "execution_count": null
    },
    {
      "cell_type": "markdown",
      "source": "<a id='wrangling'></a>\n## Data Wrangling\n\n> Upload the data, read it, and see the information of every data set. ",
      "metadata": {}
    },
    {
      "cell_type": "code",
      "source": "census = pd.read_csv('US_census.csv')\ngun = pd.read_csv('gun-data.csv') ",
      "metadata": {
        "trusted": true
      },
      "outputs": [],
      "execution_count": null
    },
    {
      "cell_type": "code",
      "source": "census.head(2)",
      "metadata": {
        "trusted": true
      },
      "outputs": [],
      "execution_count": null
    },
    {
      "cell_type": "code",
      "source": "gun.head(2)",
      "metadata": {
        "trusted": true
      },
      "outputs": [],
      "execution_count": null
    },
    {
      "cell_type": "markdown",
      "source": "***A.1 ) Check the types of the data***",
      "metadata": {}
    },
    {
      "cell_type": "code",
      "source": "gun.info()",
      "metadata": {
        "trusted": true
      },
      "outputs": [],
      "execution_count": null
    },
    {
      "cell_type": "markdown",
      "source": "**Facts about the data**\n\n* We can see that the columns of the gun data are 27, and 12485 rows.*\n\n* there are a lot of missing values like in the permit recheck, \"others\", \"pre pawn others\", \"redemption others\", \"returned hund gun\"....\" *\n\n* All the floats should be int. and we have to reduce the memory usage* ",
      "metadata": {}
    },
    {
      "cell_type": "markdown",
      "source": "# Cleaning Data # \n---------\n",
      "metadata": {}
    },
    {
      "cell_type": "markdown",
      "source": "__Change the type, from float to int.__",
      "metadata": {}
    },
    {
      "cell_type": "code",
      "source": "gun[gun.select_dtypes('int64').columns] = gun.select_dtypes('int64').astype('int16')",
      "metadata": {
        "trusted": true
      },
      "outputs": [],
      "execution_count": null
    },
    {
      "cell_type": "markdown",
      "source": "*make sure of the changes*",
      "metadata": {}
    },
    {
      "cell_type": "code",
      "source": "gun.info()",
      "metadata": {
        "trusted": true
      },
      "outputs": [],
      "execution_count": null
    },
    {
      "cell_type": "code",
      "source": "gun['permit'] = gun['permit'].astype(pd.Int32Dtype())\ngun['handgun'] = gun['handgun'].astype(pd.Int32Dtype())\ngun['long_gun'] = gun['long_gun'].astype(pd.Int32Dtype())\ngun['other'] = gun['other'].astype(pd.Int32Dtype())\ngun['multiple'] = gun['multiple'].astype(pd.Int32Dtype())\ngun['admin'] = gun['admin'].astype(pd.Int32Dtype())\ngun['prepawn_handgun'] = gun['prepawn_handgun'].astype(pd.Int32Dtype())\ngun['prepawn_long_gun'] =gun['prepawn_long_gun'].astype(pd.Int32Dtype())\ngun['prepawn_other'] =gun['prepawn_other'].astype(pd.Int32Dtype())\ngun['redemption_handgun'] =gun['redemption_handgun'].astype(pd.Int32Dtype())\ngun['redemption_long_gun'] = gun ['redemption_long_gun'].astype(pd.Int32Dtype())\ngun['redemption_other'] = gun ['redemption_other'].astype(pd.Int32Dtype())\ngun['returned_handgun'] = gun ['returned_handgun'].astype(pd.Int32Dtype())\ngun['returned_long_gun'] = gun ['returned_long_gun'].astype(pd.Int32Dtype())\ngun['returned_other'] = gun ['returned_other'].astype(pd.Int32Dtype())\ngun['rentals_handgun'] = gun ['rentals_handgun'].astype(pd.Int32Dtype())\ngun['rentals_long_gun'] = gun ['rentals_long_gun'].astype(pd.Int32Dtype())\ngun['returned_other'] = gun ['returned_other'].astype(pd.Int32Dtype())\ngun['rentals_handgun'] = gun ['rentals_handgun'].astype(pd.Int32Dtype())\ngun['rentals_long_gun'] = gun ['rentals_long_gun'].astype(pd.Int32Dtype())\ngun['private_sale_handgun'] = gun ['private_sale_handgun'].astype(pd.Int32Dtype())\ngun['private_sale_long_gun'] = gun ['private_sale_long_gun'].astype(pd.Int32Dtype())\ngun['private_sale_other'] = gun ['private_sale_other'].astype(pd.Int32Dtype())\ngun['return_to_seller_handgun'] = gun ['return_to_seller_handgun'].astype(pd.Int32Dtype())\ngun['return_to_seller_long_gun'] = gun ['return_to_seller_long_gun'].astype(pd.Int32Dtype())\ngun['return_to_seller_other'] = gun ['return_to_seller_other'].astype(pd.Int32Dtype())",
      "metadata": {
        "trusted": true
      },
      "outputs": [],
      "execution_count": null
    },
    {
      "cell_type": "markdown",
      "source": "**Check, And reduce**",
      "metadata": {}
    },
    {
      "cell_type": "code",
      "source": "gun[gun.select_dtypes('int16').columns] = gun.select_dtypes('int16').astype(pd.Int8Dtype())",
      "metadata": {
        "trusted": true
      },
      "outputs": [],
      "execution_count": null
    },
    {
      "cell_type": "code",
      "source": "gun.info()",
      "metadata": {
        "trusted": true
      },
      "outputs": [],
      "execution_count": null
    },
    {
      "cell_type": "markdown",
      "source": "\n\n***B.1 ) Check if there is duplicates***",
      "metadata": {},
      "attachments": {}
    },
    {
      "cell_type": "code",
      "source": "gun.duplicated()",
      "metadata": {
        "trusted": true
      },
      "outputs": [],
      "execution_count": null
    },
    {
      "cell_type": "markdown",
      "source": "*Or, we can use this line to check effectivly*",
      "metadata": {}
    },
    {
      "cell_type": "code",
      "source": "sum(gun.duplicated())",
      "metadata": {
        "trusted": true
      },
      "outputs": [],
      "execution_count": null
    },
    {
      "cell_type": "markdown",
      "source": "**Facts, There's no duplicates**\n\n*Now, lets delete the nan in the data. And change memory usage and data type*",
      "metadata": {}
    },
    {
      "cell_type": "code",
      "source": "gun.isnull().sum()\n",
      "metadata": {
        "trusted": true
      },
      "outputs": [],
      "execution_count": null
    },
    {
      "cell_type": "code",
      "source": "gun= gun.fillna(gun.mean(), axis=0, inplace=True)",
      "metadata": {
        "trusted": true
      },
      "outputs": [],
      "execution_count": null
    },
    {
      "cell_type": "code",
      "source": "gun.head(4)",
      "metadata": {
        "trusted": true
      },
      "outputs": [],
      "execution_count": null
    },
    {
      "cell_type": "markdown",
      "source": "**Extract years and monthes to deal with the data accuretlly** ",
      "metadata": {}
    },
    {
      "cell_type": "code",
      "source": "gun['year']=gun['month'].apply(lambda x: x.split(\"-\")[0]).astype(int)\n",
      "metadata": {
        "trusted": true
      },
      "outputs": [],
      "execution_count": null
    },
    {
      "cell_type": "code",
      "source": "gun['year'].unique()\n",
      "metadata": {
        "trusted": true
      },
      "outputs": [],
      "execution_count": null
    },
    {
      "cell_type": "code",
      "source": "gun['months'] = gun['month'].apply(lambda x: x.split(\"-\")[1]).astype(int)\n",
      "metadata": {
        "trusted": true
      },
      "outputs": [],
      "execution_count": null
    },
    {
      "cell_type": "code",
      "source": "gun['months'].unique()",
      "metadata": {
        "trusted": true
      },
      "outputs": [],
      "execution_count": null
    },
    {
      "cell_type": "code",
      "source": "gun.head(1)",
      "metadata": {
        "trusted": true
      },
      "outputs": [],
      "execution_count": null
    },
    {
      "cell_type": "code",
      "source": "gun.shape",
      "metadata": {
        "trusted": true
      },
      "outputs": [],
      "execution_count": null
    },
    {
      "cell_type": "markdown",
      "source": "**A.2 ) Now, lets check the second data set. the info and duplicates.**",
      "metadata": {}
    },
    {
      "cell_type": "code",
      "source": "census.info()",
      "metadata": {
        "trusted": true
      },
      "outputs": [],
      "execution_count": null
    },
    {
      "cell_type": "code",
      "source": " census.head(2)",
      "metadata": {
        "trusted": true
      },
      "outputs": [],
      "execution_count": null
    },
    {
      "cell_type": "markdown",
      "source": "**Facts:**\n* All of the values are abjects.\n* There are missing values.\n* There are 85 raws and 52 columns",
      "metadata": {}
    },
    {
      "cell_type": "code",
      "source": "sum(census.duplicated())",
      "metadata": {
        "trusted": true
      },
      "outputs": [],
      "execution_count": null
    },
    {
      "cell_type": "markdown",
      "source": "*There are 3 duplicates, we have to drop them*\n*And, We will drop the fact notes since it does not have valuable data*",
      "metadata": {}
    },
    {
      "cell_type": "code",
      "source": "census.drop_duplicates(inplace= True)",
      "metadata": {
        "trusted": true
      },
      "outputs": [],
      "execution_count": null
    },
    {
      "cell_type": "code",
      "source": "sum(census.duplicated())",
      "metadata": {
        "trusted": true
      },
      "outputs": [],
      "execution_count": null
    },
    {
      "cell_type": "code",
      "source": "census= census.drop('Fact Note', axis=1)",
      "metadata": {
        "trusted": true
      },
      "outputs": [],
      "execution_count": null
    },
    {
      "cell_type": "code",
      "source": "census.head(4)",
      "metadata": {
        "trusted": true
      },
      "outputs": [],
      "execution_count": null
    },
    {
      "cell_type": "markdown",
      "source": "*We have to check for the nulls*",
      "metadata": {}
    },
    {
      "cell_type": "code",
      "source": "census.isnull().sum(). sum()",
      "metadata": {
        "trusted": true
      },
      "outputs": [],
      "execution_count": null
    },
    {
      "cell_type": "markdown",
      "source": "*I can't decide if I have to drope all the nulls. maybe not.*",
      "metadata": {}
    },
    {
      "cell_type": "code",
      "source": " census.describe()",
      "metadata": {
        "trusted": true
      },
      "outputs": [],
      "execution_count": null
    },
    {
      "cell_type": "code",
      "source": "states=['Alabama', 'Alaska', 'Arizona', 'Arkansas', 'California',\n       'Colorado', 'Connecticut', 'Delaware', 'Florida', 'Georgia',  \n        'Hawaii', 'Idaho', 'Illinois','Indiana', 'Iowa', 'Kansas', \n        'Kentucky', 'Louisiana', 'Maine','Maryland', 'Massachusetts', \n        'Michigan','Minnesota', 'Mississippi', 'Missouri', 'Montana', 'Nebraska',\n       'Nevada', 'New Hampshire', 'New Jersey', 'New Mexico', 'New York',\n       'North Carolina', 'North Dakota', 'Ohio', 'Oklahoma', 'Oregon','Pennsylvania', \n        'Rhode Island', 'South Carolina','South Dakota', 'Tennessee', 'Texas', 'Utah', \n        'Vermont','Virginia', 'Washington', 'West Virginia','Wisconsin', 'Wyoming']",
      "metadata": {
        "trusted": true
      },
      "outputs": [],
      "execution_count": null
    },
    {
      "cell_type": "markdown",
      "source": "*We want to manipulate states So we gave them a variable*",
      "metadata": {}
    },
    {
      "cell_type": "markdown",
      "source": "## Exploratory Data Analysis\n",
      "metadata": {}
    },
    {
      "cell_type": "markdown",
      "source": "> 1.What census variable or fact value is most associated with high gun per capita per state? Ceusus data includes state as variable",
      "metadata": {}
    },
    {
      "cell_type": "markdown",
      "source": "*In order to calculate gun per capita,  the gun totals and population for each state needed to be fetched at first, and the gun and census data needed to be combined. Also, I notice the state in census data is divided as 50 columns, however, in gun data, state is\nonly one columns which has 46 different state value.*\n**And Because of that we will change the raws an columns so we can deal with both data**",
      "metadata": {}
    },
    {
      "cell_type": "code",
      "source": "census.set_index('Fact',inplace=True)\ncensus_T = census.T.reset_index()",
      "metadata": {
        "trusted": true
      },
      "outputs": [],
      "execution_count": null
    },
    {
      "cell_type": "code",
      "source": "census_T.head(2)",
      "metadata": {
        "trusted": true
      },
      "outputs": [],
      "execution_count": null
    },
    {
      "cell_type": "markdown",
      "source": "*Rename the column name from index to state to match the column name in gun data*",
      "metadata": {}
    },
    {
      "cell_type": "code",
      "source": "census_T.rename(columns={'index':'state'},inplace = True)",
      "metadata": {
        "trusted": true
      },
      "outputs": [],
      "execution_count": null
    },
    {
      "cell_type": "markdown",
      "source": "*The most of the data is between 2010 to 2016, so we can merge between both data we have to use the inner data*",
      "metadata": {}
    },
    {
      "cell_type": "code",
      "source": "gun10=gun[gun['year'] == 2016]\ngun16=gun[gun['year'] == 2010] ",
      "metadata": {
        "trusted": true
      },
      "outputs": [],
      "execution_count": null
    },
    {
      "cell_type": "code",
      "source": "gun10.head(2)",
      "metadata": {
        "trusted": true
      },
      "outputs": [],
      "execution_count": null
    },
    {
      "cell_type": "markdown",
      "source": "*Group by gun data by state for 2010 and 2016*\n",
      "metadata": {}
    },
    {
      "cell_type": "code",
      "source": "guntotal10= gun10.groupby(['state'])['totals'].sum().reset_index()\nguntotal16= gun16.groupby(['state'])['totals'].sum().reset_index()",
      "metadata": {
        "trusted": true
      },
      "outputs": [],
      "execution_count": null
    },
    {
      "cell_type": "code",
      "source": "guntotal16.head()",
      "metadata": {
        "trusted": true
      },
      "outputs": [],
      "execution_count": null
    },
    {
      "cell_type": "code",
      "source": "guntotal10.head()",
      "metadata": {
        "trusted": true
      },
      "outputs": [],
      "execution_count": null
    },
    {
      "cell_type": "code",
      "source": "#Rename the dataset to represent different time point \nguntotal10.rename(columns={'totals':'2010_totals'},inplace = True)\nguntotal16.rename(columns={'totals':'2016_totals'},inplace = True)",
      "metadata": {
        "trusted": true
      },
      "outputs": [],
      "execution_count": null
    },
    {
      "cell_type": "code",
      "source": "#Merge 2010 and 2016 gun data summary \nguntotal = guntotal16.merge(guntotal10, on='state', how='inner')",
      "metadata": {
        "trusted": true
      },
      "outputs": [],
      "execution_count": null
    },
    {
      "cell_type": "markdown",
      "source": "*See the result*",
      "metadata": {}
    },
    {
      "cell_type": "code",
      "source": "guntotal.head(4)",
      "metadata": {
        "trusted": true
      },
      "outputs": [],
      "execution_count": null
    },
    {
      "cell_type": "code",
      "source": "#Merge gun and census data with inner join, by state column \nresult = guntotal.merge(census_T, on='state', how='inner')",
      "metadata": {
        "trusted": true
      },
      "outputs": [],
      "execution_count": null
    },
    {
      "cell_type": "code",
      "source": "result.head(4)",
      "metadata": {
        "trusted": true
      },
      "outputs": [],
      "execution_count": null
    },
    {
      "cell_type": "code",
      "source": "result['Gun_Per_Capital_2016'] = result['2016_totals'] / result['Population estimates, July 1, 2016,  (V2016)']\nresult['Gun_Per_Capital_2010'] = result['2010_totals'] / result['Population estimates base, April 1, 2010,  (V2016)']",
      "metadata": {
        "trusted": true
      },
      "outputs": [],
      "execution_count": null
    },
    {
      "cell_type": "code",
      "source": "print(result.columns)\n",
      "metadata": {
        "trusted": true
      },
      "outputs": [],
      "execution_count": null
    },
    {
      "cell_type": "code",
      "source": "result.head(4)",
      "metadata": {
        "trusted": true
      },
      "outputs": [],
      "execution_count": null
    },
    {
      "cell_type": "code",
      "source": "",
      "metadata": {
        "trusted": true
      },
      "outputs": [],
      "execution_count": null
    },
    {
      "cell_type": "code",
      "source": "!python -m nbconvert --to html Investigate_a_Dataset.ipynb",
      "metadata": {
        "trusted": true
      },
      "outputs": [],
      "execution_count": null
    }
  ]
}